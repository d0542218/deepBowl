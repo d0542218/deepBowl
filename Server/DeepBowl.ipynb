{
 "cells": [
  {
   "cell_type": "markdown",
   "metadata": {},
   "source": [
    "必需要的資料:\n",
    "\n",
    "*熱門遊戲種類\n",
    "*1.\"種類名稱\" 2.\"遊戲名稱\" 3.\"所屬公司\" 4.\"發行日期\" 5.\"評分\" 6.\"遊戲介紹\"\n",
    "\n",
    "*遊戲新聞\n",
    "*1.\"標題名稱\" 2.\"時間\" 3.\"地點\" 4.\"新聞內容\"\n",
    "\n",
    "*展覽資訊\n",
    "*1.\"主題名稱\" 2.\"時間\" 3.\"地點\" 4.\"展覽內容\""
   ]
  },
  {
   "cell_type": "code",
   "execution_count": 1,
   "metadata": {
    "collapsed": true
   },
   "outputs": [],
   "source": [
    "def open_db():#開啟Database\n",
    "    import pymysql.cursors\n",
    "    db = pymysql.connect(host='deepbowl-mysql.cukfiecfgfog.ap-northeast-1.rds.amazonaws.com',#連結MySQL\n",
    "                             user='public_root',\n",
    "                             password='thisisasamplepassword',                             \n",
    "                             db='game_chatbot',\n",
    "                             charset='utf8mb4',\n",
    "                             cursorclass=pymysql.cursors.DictCursor)\n",
    "    return db"
   ]
  },
  {
   "cell_type": "code",
   "execution_count": 2,
   "metadata": {
    "collapsed": true
   },
   "outputs": [],
   "source": [
    "def search_db(table=None, columns = None, limit = None,operation = None, keyword = None, quantity=None):\n",
    "    #talbe:資料表可能會有Join在一起的表，不過這是用字串儲存\n",
    "    #columns:欄位的名稱\n",
    "    #limit:篩選條件,Ex:game_name,game_type等\n",
    "    #operation:操做,Ex:like,= 等\n",
    "    #keyword:要查的關鍵字,Ex:遊戲名等\n",
    "    \n",
    "    db = open_db()\n",
    "    try:\n",
    "        cursor = db.cursor()#建立資料庫游標\n",
    "        sql = (\"select \"+columns+\" \\\n",
    "                from \"+table+\" \\\n",
    "                where \"+limit+\" \"+operation+\" '\"+keyword+\"' \")#下指令，皆用變數儲存\n",
    "        \n",
    "        cursor.execute(sql)\n",
    "        rows = cursor.fetchall()\n",
    "        return rows\n",
    "    except Exception as e:\n",
    "        print(\"Exeception occured:{}\".format(e))\n",
    "    finally:\n",
    "        db.close()#關閉DataBase"
   ]
  },
  {
   "cell_type": "code",
   "execution_count": 3,
   "metadata": {
    "collapsed": true
   },
   "outputs": [],
   "source": [
    "def game_type(game_type = None):#查詢遊戲類型\n",
    "    import random#亂數\n",
    "    table = 'type inner join (game inner join game_has_type using (game_ID)) using (type_ID)'#目標Table\n",
    "    columns = 'distinct(game_name)'#詢問遊戲類型時有的columns:遊戲名稱\n",
    "    limit = 'type_name'\n",
    "    operation = 'like'\n",
    "    game_type = '%'.join(i for i in game_type)#字與字之間插入，SQL like語法要用的'%'符號\n",
    "    game_type = '%' + game_type + '%'#頭跟尾加上SQL like語法要用的'%'符號\n",
    "    ans = search_db(table,columns, limit,operation, keyword = game_type)#進資料庫搜尋的各項參數設定\n",
    "    if ans:\n",
    "        random.shuffle(ans)#打亂查詢到遊戲名稱的list\n",
    "        ans = '\\u000A'.join(i['game_name'] for i in ans[0:5])#取前5項的遊戲名稱並用'，'合併\n",
    "    else:\n",
    "        ans = 'haha none'\n",
    "    return ans"
   ]
  },
  {
   "cell_type": "code",
   "execution_count": 4,
   "metadata": {
    "collapsed": true
   },
   "outputs": [],
   "source": [
    "def game_introduction(game_name = None):#遊戲介紹的Funtion\n",
    "    table = 'game'#目標Table\n",
    "    columns = 'game_description,game_release_date'#介紹遊戲時有的columns:介紹內容、發行日期\n",
    "    limit = 'game_name'\n",
    "    operation = 'like'\n",
    "    game_name = '%'.join(i for i in game_name)#字與字之間插入，SQL like語法要用的'%'符號\n",
    "    game_name = '%' + game_name + '%'#頭跟尾加上SQL like語法要用的'%'符號\n",
    "    ans = search_db(table,columns, limit, operation,keyword = game_name)#進資料庫搜尋的各項參數設定\n",
    "    if ans:\n",
    "        ans = str(ans[0]['game_description']) + 'Release Date: ' + ans[0]['game_release_date'].strftime('%Y/%m/%d')#合併columns，DateTime類型轉String使用strftime\n",
    "    else:\n",
    "        ans = 'haha none'\n",
    "    return ans"
   ]
  },
  {
   "cell_type": "code",
   "execution_count": 5,
   "metadata": {
    "collapsed": true
   },
   "outputs": [],
   "source": [
    "def game_news(game_name = None):#遊戲新聞的Funtion\n",
    "    table = 'game inner join(news_has_game inner join news using (news_ID)) using (game_Id)'#game,news_has_game,news三個Table Inner Join在一起\n",
    "    columns = 'game_name,news_topic,news_part,news_URL'#\n",
    "    limit = 'game_name'\n",
    "    operation = 'like'\n",
    "    game_name = '%'.join(i for i in game_name)#字與字之間插入，SQL like語法要用的'%'符號\n",
    "    game_name = '%' + game_name + '%'#頭跟尾加上SQL like語法要用的'%'符號\n",
    "    ans = search_db(table,columns, limit, operation,keyword = game_name)#進資料庫搜尋的各項參數設定\n",
    "    if ans:\n",
    "        ans = ans[0]['game_name'] + '\\u000A' + ans[0]['news_topic'] + '\\u000A' + ans[0]['news_part'] + '\\u000A' + ans[0]['news_URL']#合併columns，'\\u000A'為傳輸到Line的換行操作字元\n",
    "    else:\n",
    "        ans = 'haha none'\n",
    "    return ans"
   ]
  },
  {
   "cell_type": "code",
   "execution_count": 6,
   "metadata": {
    "collapsed": true
   },
   "outputs": [],
   "source": [
    "def game_price(game_name = None):#遊戲價錢的Funtion\n",
    "    table = 'game'\n",
    "    columns = 'game_price,game_price_currency'\n",
    "    limit = 'game_name'\n",
    "    game_name = '%'.join(i for i in game_name)#字與字之間插入，SQL like語法要用的'%'符號\n",
    "    game_name = '%' + game_name + '%'#頭跟尾加上SQL like語法要用的'%'符號\n",
    "    operation = 'like'\n",
    "    \n",
    "    ans = search_db(table,columns, limit,operation,keyword = game_name)\n",
    "    if ans:\n",
    "        ans = game_name + '的價錢是: ' +str(ans[0]['game_price']) + ans[0]['game_price_currency']\n",
    "    else:\n",
    "        ans = 'haha none'\n",
    "    return ans"
   ]
  },
  {
   "cell_type": "code",
   "execution_count": 7,
   "metadata": {
    "collapsed": true
   },
   "outputs": [],
   "source": [
    "def game_recommed():#遊戲推薦的Funtion\n",
    "    import random #亂數\n",
    "    table = 'game'\n",
    "    columns = 'game_name,game_score'\n",
    "    keyword = '壓倒性好評'\n",
    "    limit = 'game_score'\n",
    "    operation = '='\n",
    "    ans = search_db(table,columns,limit,operation,keyword)\n",
    "    if ans:\n",
    "        random.shuffle(ans)#打亂list順序\n",
    "        ans = ('\\u000A'.join(i['game_name'] + ' 網路評價:' + i['game_score'] for i in ans[0:5]))#合併columns，'\\u000A'為傳輸到Line的換行操作字元\n",
    "    else:\n",
    "        ans = 'haha none'\n",
    "    return ans"
   ]
  },
  {
   "cell_type": "code",
   "execution_count": 17,
   "metadata": {
    "collapsed": true
   },
   "outputs": [],
   "source": [
    "#未完成\n",
    "def game_Time(checkDict):#遊戲推薦的Funtion\n",
    "    import datetime\n",
    "    table = ''\n",
    "    columns = 'game_release_date'\n",
    "    for i in checkDict:\n",
    "        if i == 'any' and checkDict[i] != '':\n",
    "            table.join('game')\n",
    "            columns.join('game_name')\n",
    "        elif i == 'game_date' and checkDict[i] != '':\n",
    "            columns.join(',game_release_date')\n",
    "        elif i == 'timenumber' and checkDict[i] != '':\n"
   ]
  },
  {
   "cell_type": "code",
   "execution_count": 18,
   "metadata": {
    "scrolled": true
   },
   "outputs": [
    {
     "name": "stderr",
     "output_type": "stream",
     "text": [
      " * Running on http://127.0.0.1:5000/ (Press CTRL+C to quit)\n",
      "127.0.0.1 - - [25/Dec/2018 15:31:49] \"POST / HTTP/1.1\" 200 -\n"
     ]
    },
    {
     "name": "stdout",
     "output_type": "stream",
     "text": [
      "{'responseId': '445acd06-78cd-45bb-84fe-422b471dcd69', 'queryResult': {'queryText': '半年內的遊戲', 'parameters': {'any': '', 'game_date': '', 'typeflag': '', 'timenumber': '0.5', 'timedmy': ['年'], 'timetf': ['-']}, 'allRequiredParamsPresent': True, 'fulfillmentText': '這段時間沒有遊戲發行', 'fulfillmentMessages': [{'text': {'text': ['這段時間沒有遊戲發行']}, 'platform': 'LINE'}, {'text': {'text': ['這段時間沒有遊戲發行']}}], 'intent': {'name': 'projects/newagent-bc844/agent/intents/03444649-2782-430b-8c21-969ca2eb8631', 'displayName': 'askGameTime'}, 'intentDetectionConfidence': 1.0, 'languageCode': 'zh-cn'}, 'originalDetectIntentRequest': {'payload': {}}, 'session': 'projects/newagent-bc844/agent/sessions/2ff2ac85-aee9-c165-adc7-5de790691dd0'}\n",
      "1 \n",
      "\n",
      "{'any': 0, 'game_date': 0, 'typeflag': 0, 'timenumber': 1, 'timedmy': 1, 'timetf': 1}\n",
      "{\n",
      "    \"fulfillmentText\": null\n",
      "}\n"
     ]
    }
   ],
   "source": [
    "import json\n",
    "from flask import Flask, request, make_response, jsonify\n",
    "import requests\n",
    "import pandas as pd\n",
    "from bs4 import BeautifulSoup\n",
    "import pymysql.cursors\n",
    "\n",
    "app = Flask(__name__)\n",
    "\n",
    "\n",
    "@app.route(\"/\")\n",
    "def verify():\n",
    "    return \"Hello world\", 200\n",
    "\n",
    "\n",
    "@app.route('/', methods=['POST'])#Dialogflow端\n",
    "def webhook():\n",
    "    req = request.get_json(silent=True, force=True)\n",
    "    print(req)\n",
    "    retJson = ''#查詢完的結果Asign到這兒\n",
    "\n",
    "    \n",
    "    if req['queryResult']['intent']['displayName'] != None:#確認Intent是否存在\n",
    "        targetIntent = req['queryResult']['intent']['displayName']#儲存Intent的名稱  \n",
    "        \n",
    "    if targetIntent == 'askGameIntroduction':#Intent的名稱是遊戲介紹\n",
    "        if req['queryResult']['parameters']['game_introduction'] != None:\n",
    "            keyword = req['queryResult']['parameters']['any']\n",
    "            retJson = game_introduction(game_name = str(keyword))\n",
    "            \n",
    "    if targetIntent == 'askGameType':#Intent的名稱是遊戲類型\n",
    "        if req['queryResult']['parameters']['typeflag'] != None:\n",
    "            keyword = req['queryResult']['parameters']['any']\n",
    "            retJson = game_type(game_type = str(keyword))\n",
    "            \n",
    "    if targetIntent == 'askGameRecommend':#Intent的名稱是遊戲類型\n",
    "        if req['queryResult']['parameters']['game_recommend'] != None:\n",
    "            retJson = game_recommed()\n",
    "            \n",
    "    if targetIntent == 'askGameNews':#Intent的名稱是遊戲新聞\n",
    "        if req['queryResult']['parameters']['game_news'] != None:\n",
    "            keyword = req['queryResult']['parameters']['any']\n",
    "            retJson = game_news(game_name = keyword)\n",
    "            \n",
    "    if targetIntent == 'askGamePrice':#Intent的名稱是遊戲價錢\n",
    "        if req['queryResult']['parameters']['game_price'] != None:\n",
    "            keyword = req['queryResult']['parameters']['any']\n",
    "            retJson = game_news(game_name = keyword)\n",
    "\n",
    "#     if targetIntent == 'askGameTime': #Intent的名稱是遊戲時間\n",
    "#         checkDict =  req['queryResult']['parameters']:\n",
    "#         retJson = game_Time(checkDict)\n",
    "        \n",
    "    res = {\"fulfillmentText\": retJson}#回傳DialogFlow的Json\n",
    "    res = json.dumps(res,indent = 4)\n",
    "    print(res)\n",
    "    return res\n",
    "\n",
    "# @app.route('/lastgame', methods=['GET'])#web端\n",
    "# def webView():\n",
    "#     cursor = db.cursor()#建立資料庫游標\n",
    "    \n",
    "#     sql = (\"select * from game\")#下指令\n",
    "    \n",
    "#     cursor.execute(sql)\n",
    "#     rows = cursor.fetchall()\n",
    "    \n",
    "    \n",
    "#     req = request.get_json(silent=True, force=True)\n",
    "#     print(req)\n",
    "    \n",
    "#     return res\n",
    "\n",
    "if __name__ == '__main__':\n",
    "    app.run(port=5000)\n",
    "    "
   ]
  },
  {
   "cell_type": "code",
   "execution_count": 19,
   "metadata": {},
   "outputs": [
    {
     "name": "stdout",
     "output_type": "stream",
     "text": [
      "2018-12-25 16:23:44.089593\n"
     ]
    }
   ],
   "source": [
    "import datetime\n",
    "print(datetime.datetime.now())"
   ]
  }
 ],
 "metadata": {
  "kernelspec": {
   "display_name": "Python 3",
   "language": "python",
   "name": "python3"
  },
  "language_info": {
   "codemirror_mode": {
    "name": "ipython",
    "version": 3
   },
   "file_extension": ".py",
   "mimetype": "text/x-python",
   "name": "python",
   "nbconvert_exporter": "python",
   "pygments_lexer": "ipython3",
   "version": "3.6.7"
  }
 },
 "nbformat": 4,
 "nbformat_minor": 2
}
