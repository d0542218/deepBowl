{
 "cells": [
  {
   "cell_type": "markdown",
   "metadata": {},
   "source": [
    "必需要的資料:\n",
    "\n",
    "*熱門遊戲種類\n",
    "*1.\"種類名稱\" 2.\"遊戲名稱\" 3.\"所屬公司\" 4.\"發行日期\" 5.\"評分\" 6.\"遊戲介紹\"\n",
    "\n",
    "*遊戲新聞\n",
    "*1.\"標題名稱\" 2.\"時間\" 3.\"地點\" 4.\"新聞內容\"\n",
    "\n",
    "*展覽資訊\n",
    "*1.\"主題名稱\" 2.\"時間\" 3.\"地點\" 4.\"展覽內容\""
   ]
  },
  {
   "cell_type": "code",
   "execution_count": 8,
   "metadata": {
    "collapsed": true
   },
   "outputs": [],
   "source": [
    "def open_db():#開啟Database\n",
    "    import pymysql.cursors\n",
    "    db = pymysql.connect(host='usefordeepbowl.cukfiecfgfog.ap-northeast-1.rds.amazonaws.com',#連結MySQL\n",
    "                             user='public_root',\n",
    "                             password='thisisasamplepassword',                             \n",
    "                             db='game_chatbot',\n",
    "                             charset='utf8mb4',\n",
    "                             cursorclass=pymysql.cursors.DictCursor)\n",
    "    return db"
   ]
  },
  {
   "cell_type": "code",
   "execution_count": 9,
   "metadata": {
    "collapsed": true
   },
   "outputs": [],
   "source": [
    "def search_db(table=None, columns = None, limit = None,operation = None, keyword = None, quantity=None):\n",
    "    #talbe:資料表可能會有Join在一起的表，不過這是用字串儲存\n",
    "    #columns:欄位的名稱\n",
    "    #limit:篩選條件\n",
    "    #keyword:要查的關鍵字,Ex:遊戲名等\n",
    "    #quantity:目前無\n",
    "    try:\n",
    "        db = open_db()\n",
    "        cursor = db.cursor()#建立資料庫游標\n",
    "        sql = (\"select \"+columns+\" \\\n",
    "                from \"+table+\" \\\n",
    "                where \"+limit+\" \"+operation+\" '\"+keyword+\"' \")#下指令\n",
    "        \n",
    "        cursor.execute(sql)\n",
    "        rows = cursor.fetchall()\n",
    "        return rows\n",
    "    except Exception as e:\n",
    "        print(\"Exeception occured:{}\".format(e))\n",
    "    finally:\n",
    "        db.close()#關閉DataBase"
   ]
  },
  {
   "cell_type": "code",
   "execution_count": 34,
   "metadata": {
    "collapsed": true
   },
   "outputs": [],
   "source": [
    "def game_type(game_name = None):\n",
    "    table = 'game inner join (game_has_type inner join type using (type_ID)) using (game_ID)'\n",
    "    columns = 'distinct(game_name),type_name'\n",
    "    game_name = '%'.join(i for i in game_name)\n",
    "    ans = search_db(table,columns, limit = 'game_name',operation = 'like', keyword = game_name)#詢問遊戲價錢時有的columns:價錢、價錢單位\n",
    "    \n",
    "    if ans:\n",
    "        ans = ans[0]['game_name'] + ',' + ','.join(i['type_name'] for i in ans)\n",
    "    else:\n",
    "        ans = 'haha none'\n",
    "    return ans"
   ]
  },
  {
   "cell_type": "code",
   "execution_count": 62,
   "metadata": {
    "collapsed": true
   },
   "outputs": [],
   "source": [
    "def game_introduction(game_name = None):#遊戲介紹的Funtion\\n\",\n",
    "    table = 'game'\n",
    "    columns = 'game_introduction,game_release_date'#介紹遊戲時有的columns:介紹內容、發行日期\n",
    "    ans = search_db(table,columns, limit = 'game_name', operation = 'like',keyword = game_name)\n",
    "#     print(ans)\n",
    "    if ans:\n",
    "        ans = str(ans[0]['game_introduction']) + 'Release Date: ' + ans[0]['game_release_date'].strftime('%Y/%m/%d')\n",
    "    else:\n",
    "        ans = 'haha none',\n",
    "    return ans"
   ]
  },
  {
   "cell_type": "code",
   "execution_count": 88,
   "metadata": {
    "collapsed": true
   },
   "outputs": [],
   "source": [
    "def game_news(game_name = None):#遊戲價錢的Funtion\n",
    "    table = 'game'\n",
    "    columns = 'game_price,game_price_currency'\n",
    "    game_name = '%'.join(i for i in game_name)\n",
    "    ans = search_db(table,columns, limit = 'game_name',operation = 'like',keyword = game_name)#詢問遊戲價錢時有的columns:價錢、價錢單位\n",
    "    if ans:\n",
    "        ans = str(ans[0]['game_price']) + ans[0]['game_price_currency']\n",
    "    else:\n",
    "        ans = 'haha none'\n",
    "    return ans"
   ]
  },
  {
   "cell_type": "code",
   "execution_count": 2,
   "metadata": {
    "scrolled": true
   },
   "outputs": [
    {
     "name": "stderr",
     "output_type": "stream",
     "text": [
      " * Running on http://127.0.0.1:5000/ (Press CTRL+C to quit)\n",
      "127.0.0.1 - - [07/Dec/2018 18:42:17] \"POST / HTTP/1.1\" 200 -\n"
     ]
    },
    {
     "name": "stdout",
     "output_type": "stream",
     "text": [
      "{'responseId': 'a162e971-919c-4479-9be0-00a8a7da6d2b', 'queryResult': {'queryText': 'Mirror的遊戲介紹', 'action': 'action', 'parameters': {'game_type': '', 'any': 'Mirror', 'game_introduction': '介紹'}, 'allRequiredParamsPresent': True, 'fulfillmentMessages': [{'text': {'text': ['']}}], 'intent': {'name': 'projects/deepbowl-e7505/agent/intents/71659b1b-175b-465a-b508-067b18a7e475', 'displayName': 'GameChatBot'}, 'intentDetectionConfidence': 1.0, 'languageCode': 'zh-cn'}, 'originalDetectIntentRequest': {'payload': {}}, 'session': 'projects/deepbowl-e7505/agent/sessions/b7045468-a131-3321-8af9-585e4a41a25f'}\n",
      "{'game_type': '', 'any': 'Mirror', 'game_introduction': '介紹'}\n",
      "{'game_type': '', 'any': 'Mirror', 'game_introduction': '介紹'}\n",
      "{'game_type': '', 'any': 'Mirror', 'game_introduction': '介紹'}\n",
      "{\n",
      "    \"fulfillmentText\": \"\"\n",
      "}\n"
     ]
    }
   ],
   "source": [
    "import json\n",
    "from flask import Flask, request, make_response, jsonify\n",
    "import requests\n",
    "import pandas as pd\n",
    "from bs4 import BeautifulSoup\n",
    "import pymysql.cursors\n",
    "\n",
    "app = Flask(__name__)\n",
    "\n",
    "\n",
    "@app.route(\"/\")\n",
    "def verify():\n",
    "    return \"Hello world\", 200\n",
    "\n",
    "\n",
    "@app.route('/', methods=['POST'])#Dialogflow端\n",
    "def webhook():\n",
    "    req = request.get_json(silent=True, force=True)\n",
    "    print(req)\n",
    "    retJson = ''\n",
    "#     for i in req['queryResult']['parameters']:\n",
    "#         if i:\n",
    "#             item = ''.join(i for i in res['queryResult']['parameters'])\n",
    "#             print(item)\n",
    "#         else:\n",
    "#             print(i)\n",
    "    if req['queryResult']['parameters']['game_introduction'] != None:\n",
    "        keyword = req['queryResult']['parameters']['any']\n",
    "        open_db()\n",
    "        print(keyword)\n",
    "        retJson = game_introduction(game_name = str(keyword))\n",
    "\n",
    "    res = {\"fulfillmentText\": retJson}\n",
    "    res = json.dumps(res,indent = 4)\n",
    "    print(res)\n",
    "    return res\n",
    "\n",
    "# @app.route('/lastgame', methods=['GET'])#web端\n",
    "# def webView():\n",
    "#     cursor = db.cursor()#建立資料庫游標\n",
    "    \n",
    "#     sql = (\"select * from game\")#下指令\n",
    "    \n",
    "#     cursor.execute(sql)\n",
    "#     rows = cursor.fetchall()\n",
    "    \n",
    "    \n",
    "#     req = request.get_json(silent=True, force=True)\n",
    "#     print(req)\n",
    "    \n",
    "#     return res\n",
    "\n",
    "if __name__ == '__main__':\n",
    "    app.run(port=5000)\n",
    "    "
   ]
  },
  {
   "cell_type": "code",
   "execution_count": 5,
   "metadata": {},
   "outputs": [
    {
     "name": "stdout",
     "output_type": "stream",
     "text": [
      "['game_type', 'any', 'game_introduction']\n"
     ]
    }
   ],
   "source": []
  }
 ],
 "metadata": {
  "kernelspec": {
   "display_name": "Python 3",
   "language": "python",
   "name": "python3"
  },
  "language_info": {
   "codemirror_mode": {
    "name": "ipython",
    "version": 3
   },
   "file_extension": ".py",
   "mimetype": "text/x-python",
   "name": "python",
   "nbconvert_exporter": "python",
   "pygments_lexer": "ipython3",
   "version": "3.6.7"
  }
 },
 "nbformat": 4,
 "nbformat_minor": 2
}
