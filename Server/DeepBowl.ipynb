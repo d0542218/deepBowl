{
 "cells": [
  {
   "cell_type": "code",
   "execution_count": 9,
   "metadata": {},
   "outputs": [],
   "source": [
    "import pymysql.cursors\n",
    "\n",
    "db = pymysql.connect(host='13.230.161.175',\n",
    "                             user='public-root',\n",
    "                             password='thisisasamplepassword',                             \n",
    "                             db='game_chatbot',\n",
    "                             charset='utf8mb4',\n",
    "                             cursorclass=pymysql.cursors.DictCursor)\n",
    "\n",
    "def search_db(keyword):\n",
    "    try:\n",
    "        cursor = db.cursor()#建立資料庫游標\n",
    "        sql = \"select game_name \\\n",
    "                from game\\\n",
    "                where game_ID in (select game_ID\\\n",
    "                    from game_has_type,type\\\n",
    "                    where type_name = '\"+keyword+\"' )\" #下指令\n",
    "        cursor.execute(sql)\n",
    "        rows = cursor.fetchall()\n",
    "        return str(rows[0])\n",
    "    except Exception as e:\n",
    "        print(\"Exeception occured:{}\".format(e))\n",
    "    finally:\n",
    "        db.close()"
   ]
  },
  {
   "cell_type": "code",
   "execution_count": null,
   "metadata": {
    "scrolled": true
   },
   "outputs": [
    {
     "name": "stderr",
     "output_type": "stream",
     "text": [
      " * Running on http://127.0.0.1:5000/ (Press CTRL+C to quit)\n",
      "127.0.0.1 - - [04/Dec/2018 17:02:59] \"POST / HTTP/1.1\" 200 -\n"
     ]
    },
    {
     "name": "stdout",
     "output_type": "stream",
     "text": [
      "{'responseId': '6c2a7c8f-0dec-4548-a210-0d516f26d07f', 'queryResult': {'queryText': '恐怖遊戲', 'action': 'action', 'parameters': {'game_type': '驚悚'}, 'allRequiredParamsPresent': True, 'fulfillmentMessages': [{'text': {'text': ['']}}], 'intent': {'name': 'projects/deepbowl-e7505/agent/intents/71659b1b-175b-465a-b508-067b18a7e475', 'displayName': 'GameChatBot'}, 'intentDetectionConfidence': 0.91, 'languageCode': 'zh-cn'}, 'originalDetectIntentRequest': {'payload': {}}, 'session': 'projects/deepbowl-e7505/agent/sessions/b7045468-a131-3321-8af9-585e4a41a25f'}\n",
      "{\n",
      "    \"fulfillmentText\": \"{'game_name': 'STEINS;GATE'}\"\n",
      "}\n"
     ]
    }
   ],
   "source": [
    "import json\n",
    "from flask import Flask, request, make_response, jsonify\n",
    "import requests\n",
    "import pandas as pd\n",
    "from bs4 import BeautifulSoup\n",
    "import pymysql.cursors\n",
    "\n",
    "app = Flask(__name__)\n",
    "\n",
    "\n",
    "@app.route(\"/\")\n",
    "def verify():\n",
    "    return \"Hello world\", 200\n",
    "\n",
    "\n",
    "@app.route('/', methods=['POST'])#Dialogflow端\n",
    "def webhook():\n",
    "    req = request.get_json(silent=True, force=True)\n",
    "    print(req)\n",
    "    if req['queryResult']['parameters']['game_type'] != None:\n",
    "        keyword = req['queryResult']['parameters']['game_type']\n",
    "    res = {\"fulfillmentText\": search_db(keyword)}\n",
    "    res = json.dumps(res,indent = 4)\n",
    "    print(res)\n",
    "    return res\n",
    "\n",
    "\n",
    "if __name__ == '__main__':\n",
    "    db = pymysql.connect(host='13.230.161.175',#連結MySQL\n",
    "                             user='public-root',\n",
    "                             password='thisisasamplepassword',                             \n",
    "                             db='game_chatbot',\n",
    "                             charset='utf8mb4',\n",
    "                             cursorclass=pymysql.cursors.DictCursor)\n",
    "    app.run(port=5000)"
   ]
  },
  {
   "cell_type": "code",
   "execution_count": null,
   "metadata": {
    "collapsed": true
   },
   "outputs": [],
   "source": [
    ""
   ]
  }
 ],
 "metadata": {
  "kernelspec": {
   "display_name": "Python 3",
   "language": "python",
   "name": "python3"
  },
  "language_info": {
   "codemirror_mode": {
    "name": "ipython",
    "version": 3.0
   },
   "file_extension": ".py",
   "mimetype": "text/x-python",
   "name": "python",
   "nbconvert_exporter": "python",
   "pygments_lexer": "ipython3",
   "version": "3.6.7"
  }
 },
 "nbformat": 4,
 "nbformat_minor": 0
}