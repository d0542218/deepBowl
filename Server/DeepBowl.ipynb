{
 "cells": [
  {
   "cell_type": "code",
   "execution_count": 41,
   "metadata": {},
   "outputs": [
    {
     "name": "stdout",
     "output_type": "stream",
     "text": [
      "[{'count(*)': 5}]\n"
     ]
    }
   ],
   "source": [
    "import pymysql.cursors\n",
    "\n",
    "db = pymysql.connect(host='13.230.161.175',\n",
    "                             user='public-root',\n",
    "                             password='thisisasamplepassword',                             \n",
    "                             db='classicmodels',\n",
    "                             charset='utf8mb4',\n",
    "                             cursorclass=pymysql.cursors.DictCursor)\n",
    "\n",
    "# def search_db(db):\n",
    "try:\n",
    "    cursor = db.cursor()#建立資料庫游標\n",
    "\n",
    "    sql = \"SELECT count(*) \\\n",
    "            FROM customers \\\n",
    "            where city = 'NYC'\" #下指令\n",
    "    cursor.execute(sql)\n",
    "    rows = cursor.fetchall()\n",
    "    print(rows)\n",
    "except Exception as e:\n",
    "    print(\"Exeception occured:{}\".format(e))\n",
    "finally:\n",
    "    db.close()"
   ]
  },
  {
   "cell_type": "code",
   "execution_count": null,
   "metadata": {
    "scrolled": true
   },
   "outputs": [
    {
     "name": "stderr",
     "output_type": "stream",
     "text": [
      " * Running on http://127.0.0.1:5000/ (Press CTRL+C to quit)\n",
      "127.0.0.1 - - [24/Nov/2018 12:37:16] \"POST / HTTP/1.1\" 200 -\n"
     ]
    },
    {
     "name": "stdout",
     "output_type": "stream",
     "text": [
      "{'responseId': '5624ff0d-de30-42ee-aecc-25aada51cfed', 'queryResult': {'queryText': 'hi', 'action': 'action', 'parameters': {}, 'allRequiredParamsPresent': True, 'fulfillmentMessages': [{'text': {'text': ['']}}], 'intent': {'name': 'projects/deepbowl-e7505/agent/intents/71659b1b-175b-465a-b508-067b18a7e475', 'displayName': 'GameChatBot'}, 'intentDetectionConfidence': 1.0, 'languageCode': 'zh-cn'}, 'originalDetectIntentRequest': {'payload': {}}, 'session': 'projects/deepbowl-e7505/agent/sessions/076bf408-8587-95d8-3202-498e76b134d4'}\n",
      "1\n",
      "{\n",
      "    \"fulfillmentText\": \"{'customerName': 'Atelier graphique'}\"\n",
      "}\n"
     ]
    }
   ],
   "source": [
    "import json\n",
    "from flask import Flask, request, make_response, jsonify\n",
    "import requests\n",
    "import pandas as pd\n",
    "from bs4 import BeautifulSoup\n",
    "import pymysql.cursors\n",
    "\n",
    "app = Flask(__name__)\n",
    "\n",
    "\n",
    "@app.route(\"/\")\n",
    "def verify():\n",
    "    return \"Hello world\", 200\n",
    "\n",
    "\n",
    "@app.route('/', methods=['POST'])#Dialogflow端\n",
    "def webhook():\n",
    "    req = request.get_json(silent=True, force=True)\n",
    "    print(req)\n",
    "\n",
    "#     if req['queryResult']['parameters']['language']!='':\n",
    "#         trans = req['queryResult']['parameters']['language']#抓要轉的語言\n",
    "#         if trans == '英语':\n",
    "#             trans = 'chinese'\n",
    "#         elif trans == '中文':\n",
    "#             trans = 'english'\n",
    "#     if req['queryResult']['parameters']['mythings'] != '':\n",
    "#         keyword = req['queryResult']['parameters']['mythings']\n",
    "\n",
    "    res = {\"fulfillmentText\": str(search_db(db))}\n",
    "    res = json.dumps(res,indent = 4)\n",
    "    print(res)\n",
    "    return res\n",
    "\n",
    "\n",
    "if __name__ == '__main__':\n",
    "    db = pymysql.connect(host='13.230.161.175',#連結MySQL\n",
    "                             user='public-root',\n",
    "                             password='thisisasamplepassword',                             \n",
    "                             db='classicmodels',\n",
    "                             charset='utf8mb4',\n",
    "                             cursorclass=pymysql.cursors.DictCursor)\n",
    "    app.run(port=5000)"
   ]
  },
  {
   "cell_type": "code",
   "execution_count": null,
   "metadata": {
    "collapsed": true
   },
   "outputs": [],
   "source": []
  }
 ],
 "metadata": {
  "kernelspec": {
   "display_name": "Python 3",
   "language": "python",
   "name": "python3"
  },
  "language_info": {
   "codemirror_mode": {
    "name": "ipython",
    "version": 3
   },
   "file_extension": ".py",
   "mimetype": "text/x-python",
   "name": "python",
   "nbconvert_exporter": "python",
   "pygments_lexer": "ipython3",
   "version": "3.6.7"
  }
 },
 "nbformat": 4,
 "nbformat_minor": 2
}
