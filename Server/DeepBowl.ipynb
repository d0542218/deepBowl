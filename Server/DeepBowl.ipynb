{
 "cells": [
  {
   "cell_type": "markdown",
   "metadata": {},
   "source": [
    "必需要的資料:\n",
    "\n",
    "*熱門遊戲種類\n",
    "*1.\"種類名稱\" 2.\"遊戲名稱\" 3.\"所屬公司\" 4.\"發行日期\" 5.\"評分\" 6.\"遊戲介紹\"\n",
    "\n",
    "*遊戲新聞\n",
    "*1.\"標題名稱\" 2.\"時間\" 3.\"地點\" 4.\"新聞內容\"\n",
    "\n",
    "*展覽資訊\n",
    "*1.\"主題名稱\" 2.\"時間\" 3.\"地點\" 4.\"展覽內容\""
   ]
  },
  {
   "cell_type": "code",
   "execution_count": null,
   "metadata": {},
   "outputs": [],
   "source": [
    "popular_game_type = ['game_type','game_name','company_name','game_release_date','game_score']\n",
    "# st = ''\n",
    "# st = st.join(popular_game_type)\n",
    "# print(st)\n",
    "# \"game_type\" in popular_game_type\n"
   ]
  },
  {
   "cell_type": "code",
   "execution_count": 138,
   "metadata": {
    "collapsed": true
   },
   "outputs": [],
   "source": [
    "def open_db():#開啟Database\n",
    "     db = pymysql.connect(host='13.230.161.175',#連結MySQL\n",
    "                             user='public-root',\n",
    "                             password='thisisasamplepassword',                             \n",
    "                             db='game_chatbot',\n",
    "                             charset='utf8mb4',\n",
    "                             cursorclass=pymysql.cursors.DictCursor)"
   ]
  },
  {
   "cell_type": "code",
   "execution_count": 136,
   "metadata": {
    "collapsed": true
   },
   "outputs": [],
   "source": [
    "import pymysql.cursors\n",
    "\n",
    "db = pymysql.connect(host='13.230.161.175',\n",
    "                             user='public-root',\n",
    "                             password='thisisasamplepassword',                             \n",
    "                             db='game_chatbot',\n",
    "                             charset='utf8mb4',\n",
    "                             cursorclass=pymysql.cursors.DictCursor)\n",
    "\n",
    "def search_db(table=None, columns = None, limit = None, keyword = None, quantity=None):\n",
    "    #talbe:資料表可能會有Join在一起的表，不過這是用字串儲存\n",
    "    #columns:欄位的名稱\n",
    "    #limit:篩選條件\n",
    "    #keyword:要查的關鍵字,Ex:遊戲名等\n",
    "    #quantity:目前無\n",
    "    try:\n",
    "        cursor = db.cursor()#建立資料庫游標\n",
    "        keyword = '%'\n",
    "        keyword = keyword.join(i for i in game_name)\n",
    "        sql = (\"select \"+columns+\" \\\n",
    "                from \"+table+\" \\\n",
    "                where \"+limit+\" like '%\"+keyword+\"%' \")#下指令\n",
    "        \n",
    "        cursor.execute(sql)\n",
    "        rows = cursor.fetchall()\n",
    "        return rows\n",
    "    except Exception as e:\n",
    "        print(\"Exeception occured:{}\".format(e))\n",
    "    finally:\n",
    "        db.close()#關閉DataBase"
   ]
  },
  {
   "cell_type": "code",
   "execution_count": 137,
   "metadata": {},
   "outputs": [],
   "source": [
    "def game_introduction(game_name = None):#遊戲介紹的Funtion\n",
    "    table = 'game'\n",
    "    columns = 'game_introduction,game_release_date'#介紹遊戲時有的columns:介紹內容、發行日期\n",
    "    ans = search_db(table,columns, limit = 'game_name', keyword = keyword)\n",
    "    if ans:\n",
    "        ans = str(ans[0]['game_introduction']) + '\\tRelease Date: ' + ans[0]['game_release_date'].strftime('%Y/%m/%d')\n",
    "    else:\n",
    "        ans = 'haha none'\n",
    "    return ans"
   ]
  },
  {
   "cell_type": "code",
   "execution_count": 88,
   "metadata": {
    "collapsed": true
   },
   "outputs": [],
   "source": [
    "# def game_price(game_name = None):#遊戲價錢的Funtion\n",
    "#     table = 'game'\n",
    "#     columns = 'game_price,game_price_currency'\n",
    "#     ans = search_db(table,columns, limit = 'game_name',keyword = game_name)\n",
    "#     ans = str(ans[0]['game_price']) + ans[0]['game_price_currency']\n",
    "#     return ans"
   ]
  },
  {
   "cell_type": "code",
   "execution_count": null,
   "metadata": {
    "scrolled": true
   },
   "outputs": [
    {
     "name": "stderr",
     "output_type": "stream",
     "text": [
      " * Running on http://127.0.0.1:5000/ (Press CTRL+C to quit)\n"
     ]
    },
    {
     "name": "stdout",
     "output_type": "stream",
     "text": [
      "{'responseId': '83616337-edfd-4efe-96e3-81d359888e10', 'queryResult': {'queryText': '英雄聯盟的介紹', 'parameters': {'game_introduction': '介紹', 'any': '英雄聯盟'}, 'allRequiredParamsPresent': True, 'fulfillmentText': '試試看搜尋別的遊戲吧', 'fulfillmentMessages': [{'text': {'text': ['沒有此遊戲的介紹']}}], 'intent': {'name': 'projects/newagent-bc844/agent/intents/090765e8-1142-4762-a22f-c5a9c053b954', 'displayName': '遊戲介紹'}, 'intentDetectionConfidence': 1.0, 'languageCode': 'zh-cn'}, 'originalDetectIntentRequest': {'payload': {}}, 'session': 'projects/newagent-bc844/agent/sessions/2fb434ab-6b7d-dd70-ab91-11666170e8b5'}\n"
     ]
    },
    {
     "name": "stderr",
     "output_type": "stream",
     "text": [
      "127.0.0.1 - - [07/Dec/2018 14:24:33] \"POST / HTTP/1.1\" 200 -\n"
     ]
    },
    {
     "name": "stdout",
     "output_type": "stream",
     "text": [
      "英雄聯盟\n",
      ".................................\n",
      "英%雄%聯%盟\n",
      "()\n",
      "haha none\n",
      "{\n",
      "    \"fulfillmentText\": \"haha none\"\n",
      "}\n",
      "{'responseId': 'c323d447-1925-4ef0-aa8e-29b99c2a3b33', 'queryResult': {'queryText': '英雄聯盟的介紹', 'parameters': {'game_introduction': '介紹', 'any': '英雄聯盟'}, 'allRequiredParamsPresent': True, 'fulfillmentText': '沒有此遊戲的介紹', 'fulfillmentMessages': [{'text': {'text': ['試試看搜尋別的遊戲吧']}}], 'intent': {'name': 'projects/newagent-bc844/agent/intents/090765e8-1142-4762-a22f-c5a9c053b954', 'displayName': '遊戲介紹'}, 'intentDetectionConfidence': 1.0, 'languageCode': 'zh-cn'}, 'originalDetectIntentRequest': {'payload': {}}, 'session': 'projects/newagent-bc844/agent/sessions/2fb434ab-6b7d-dd70-ab91-11666170e8b5'}\n"
     ]
    },
    {
     "name": "stderr",
     "output_type": "stream",
     "text": [
      "127.0.0.1 - - [07/Dec/2018 14:24:43] \"POST / HTTP/1.1\" 200 -\n"
     ]
    },
    {
     "name": "stdout",
     "output_type": "stream",
     "text": [
      "英雄聯盟\n",
      ".................................\n",
      "英%雄%聯%盟\n",
      "()\n",
      "haha none\n",
      "{\n",
      "    \"fulfillmentText\": \"haha none\"\n",
      "}\n",
      "{'responseId': '001233d3-27f6-4a66-90cc-d18fd57ef8e8', 'queryResult': {'queryText': 'Mirror的介紹', 'parameters': {'game_introduction': '介紹', 'any': 'Mirror'}, 'allRequiredParamsPresent': True, 'fulfillmentText': '試試看搜尋別的遊戲吧', 'fulfillmentMessages': [{'text': {'text': ['沒有此遊戲的介紹']}}], 'intent': {'name': 'projects/newagent-bc844/agent/intents/090765e8-1142-4762-a22f-c5a9c053b954', 'displayName': '遊戲介紹'}, 'intentDetectionConfidence': 1.0, 'languageCode': 'zh-cn'}, 'originalDetectIntentRequest': {'payload': {}}, 'session': 'projects/newagent-bc844/agent/sessions/2fb434ab-6b7d-dd70-ab91-11666170e8b5'}\n"
     ]
    },
    {
     "name": "stderr",
     "output_type": "stream",
     "text": [
      "127.0.0.1 - - [07/Dec/2018 14:25:01] \"POST / HTTP/1.1\" 200 -\n"
     ]
    },
    {
     "name": "stdout",
     "output_type": "stream",
     "text": [
      "Mirror\n",
      ".................................\n",
      "M%i%r%r%o%r\n",
      "這是一款“美少女＋寶石消除＋GALGAME”結合的遊戲。你在异世界里邂逅各种各样的美女，与她们战斗时你套路深似海。这些自認高貴的盜賊精靈，優柔寡斷的龍女僕，喜歡著同性的女王，圈養面首的森林女獵手都被你不擇手段地一一捕獲并进行令人窒息的操作～\tRelease Date: 2018/04/19\n",
      "{\n",
      "    \"fulfillmentText\": \"\\u9019\\u662f\\u4e00\\u6b3e\\u201c\\u7f8e\\u5c11\\u5973\\uff0b\\u5bf6\\u77f3\\u6d88\\u9664\\uff0bGALGAME\\u201d\\u7d50\\u5408\\u7684\\u904a\\u6232\\u3002\\u4f60\\u5728\\u5f02\\u4e16\\u754c\\u91cc\\u9082\\u9005\\u5404\\u79cd\\u5404\\u6837\\u7684\\u7f8e\\u5973\\uff0c\\u4e0e\\u5979\\u4eec\\u6218\\u6597\\u65f6\\u4f60\\u5957\\u8def\\u6df1\\u4f3c\\u6d77\\u3002\\u8fd9\\u4e9b\\u81ea\\u8a8d\\u9ad8\\u8cb4\\u7684\\u76dc\\u8cca\\u7cbe\\u9748\\uff0c\\u512a\\u67d4\\u5be1\\u65b7\\u7684\\u9f8d\\u5973\\u50d5\\uff0c\\u559c\\u6b61\\u8457\\u540c\\u6027\\u7684\\u5973\\u738b\\uff0c\\u5708\\u990a\\u9762\\u9996\\u7684\\u68ee\\u6797\\u5973\\u7375\\u624b\\u90fd\\u88ab\\u4f60\\u4e0d\\u64c7\\u624b\\u6bb5\\u5730\\u4e00\\u4e00\\u6355\\u7372\\u5e76\\u8fdb\\u884c\\u4ee4\\u4eba\\u7a92\\u606f\\u7684\\u64cd\\u4f5c\\uff5e\\tRelease Date: 2018/04/19\"\n",
      "}\n",
      "{'responseId': '662c95f7-dda8-4431-a712-bd4f186b7b85', 'queryResult': {'queryText': 'Mirror的介紹', 'parameters': {'game_introduction': '介紹', 'any': 'Mirror'}, 'allRequiredParamsPresent': True, 'fulfillmentText': '試試看搜尋別的遊戲吧', 'fulfillmentMessages': [{'text': {'text': ['沒有此遊戲的介紹']}}], 'intent': {'name': 'projects/newagent-bc844/agent/intents/090765e8-1142-4762-a22f-c5a9c053b954', 'displayName': '遊戲介紹'}, 'intentDetectionConfidence': 1.0, 'languageCode': 'zh-cn'}, 'originalDetectIntentRequest': {'source': 'line', 'payload': {'data': {'replyToken': '9343cacf72404d998f350c432e88511b', 'source': {'type': 'user', 'userId': 'Uac0c6e1d8f8176432b4669e7b4e06c8f'}, 'type': 'message', 'message': {'text': 'Mirror的介紹', 'id': '8970358670985', 'type': 'text'}, 'timestamp': 1544163929020.0}, 'source': 'line'}}, 'session': 'projects/newagent-bc844/agent/sessions/ae22f42b-f715-455e-99ec-9b4cf5c5aee5'}\n"
     ]
    },
    {
     "name": "stderr",
     "output_type": "stream",
     "text": [
      "127.0.0.1 - - [07/Dec/2018 14:25:31] \"POST / HTTP/1.1\" 200 -\n"
     ]
    },
    {
     "name": "stdout",
     "output_type": "stream",
     "text": [
      "Mirror\n",
      ".................................\n",
      "M%i%r%r%o%r\n",
      "這是一款“美少女＋寶石消除＋GALGAME”結合的遊戲。你在异世界里邂逅各种各样的美女，与她们战斗时你套路深似海。这些自認高貴的盜賊精靈，優柔寡斷的龍女僕，喜歡著同性的女王，圈養面首的森林女獵手都被你不擇手段地一一捕獲并进行令人窒息的操作～\tRelease Date: 2018/04/19\n",
      "{\n",
      "    \"fulfillmentText\": \"\\u9019\\u662f\\u4e00\\u6b3e\\u201c\\u7f8e\\u5c11\\u5973\\uff0b\\u5bf6\\u77f3\\u6d88\\u9664\\uff0bGALGAME\\u201d\\u7d50\\u5408\\u7684\\u904a\\u6232\\u3002\\u4f60\\u5728\\u5f02\\u4e16\\u754c\\u91cc\\u9082\\u9005\\u5404\\u79cd\\u5404\\u6837\\u7684\\u7f8e\\u5973\\uff0c\\u4e0e\\u5979\\u4eec\\u6218\\u6597\\u65f6\\u4f60\\u5957\\u8def\\u6df1\\u4f3c\\u6d77\\u3002\\u8fd9\\u4e9b\\u81ea\\u8a8d\\u9ad8\\u8cb4\\u7684\\u76dc\\u8cca\\u7cbe\\u9748\\uff0c\\u512a\\u67d4\\u5be1\\u65b7\\u7684\\u9f8d\\u5973\\u50d5\\uff0c\\u559c\\u6b61\\u8457\\u540c\\u6027\\u7684\\u5973\\u738b\\uff0c\\u5708\\u990a\\u9762\\u9996\\u7684\\u68ee\\u6797\\u5973\\u7375\\u624b\\u90fd\\u88ab\\u4f60\\u4e0d\\u64c7\\u624b\\u6bb5\\u5730\\u4e00\\u4e00\\u6355\\u7372\\u5e76\\u8fdb\\u884c\\u4ee4\\u4eba\\u7a92\\u606f\\u7684\\u64cd\\u4f5c\\uff5e\\tRelease Date: 2018/04/19\"\n",
      "}\n"
     ]
    }
   ],
   "source": [
    "import json\n",
    "from flask import Flask, request, make_response, jsonify\n",
    "import requests\n",
    "import pandas as pd\n",
    "from bs4 import BeautifulSoup\n",
    "import pymysql.cursors\n",
    "\n",
    "app = Flask(__name__)\n",
    "\n",
    "\n",
    "@app.route(\"/\")\n",
    "def verify():\n",
    "    return \"Hello world\", 200\n",
    "\n",
    "\n",
    "@app.route('/', methods=['POST'])#Dialogflow端\n",
    "def webhook():\n",
    "    req = request.get_json(silent=True, force=True)\n",
    "    print(req)\n",
    "    if req['queryResult']['parameters']['game_introduction'] != None:\n",
    "        keyword = req['queryResult']['parameters']['any']\n",
    "        open_db()\n",
    "        print(keyword)\n",
    "    res = {\"fulfillmentText\": game_introduction(game_name = str(keyword))}\n",
    "    res = json.dumps(res,indent = 4)\n",
    "    print(res)\n",
    "    return res\n",
    "\n",
    "# @app.route('/lastgame', methods=['GET'])#Dialogflow端\n",
    "# def webView():\n",
    "#     cursor = db.cursor()#建立資料庫游標\n",
    "    \n",
    "#     sql = (\"select * from game\")#下指令\n",
    "    \n",
    "#     cursor.execute(sql)\n",
    "#     rows = cursor.fetchall()\n",
    "    \n",
    "    \n",
    "#     req = request.get_json(silent=True, force=True)\n",
    "#     print(req)\n",
    "    \n",
    "#     return res\n",
    "\n",
    "if __name__ == '__main__':\n",
    "    app.run(port=5000)\n",
    "    "
   ]
  }
 ],
 "metadata": {
  "kernelspec": {
   "display_name": "Python 3",
   "language": "python",
   "name": "python3"
  },
  "language_info": {
   "codemirror_mode": {
    "name": "ipython",
    "version": 3
   },
   "file_extension": ".py",
   "mimetype": "text/x-python",
   "name": "python",
   "nbconvert_exporter": "python",
   "pygments_lexer": "ipython3",
   "version": "3.6.7"
  }
 },
 "nbformat": 4,
 "nbformat_minor": 2
}
