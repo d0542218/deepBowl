{
 "cells": [
  {
   "cell_type": "code",
   "execution_count": 1,
   "metadata": {},
   "outputs": [],
   "source": [
    "from bs4 import BeautifulSoup as bs\n",
    "import pandas as pd\n",
    "from selenium import webdriver\n",
    "from selenium.webdriver.common.keys import Keys\n",
    "import time\n",
    "import csv\n",
    "file = open('serchPage.csv',\"w\")"
   ]
  },
  {
   "cell_type": "code",
   "execution_count": 2,
   "metadata": {},
   "outputs": [],
   "source": [
    "def serchPage():\n",
    "    page = \"https://store.steampowered.com/search/?ignore_preferences=1&category1=998&page=1\"\n",
    "    flag = 0   #迴圈判斷\n",
    "    count = 1  #第幾頁\n",
    "    links = []\n",
    "    driver = webdriver.Chrome('chromedriver')\n",
    "    driver.get(page)\n",
    "    soup = bs(driver.page_source,\"html.parser\")\n",
    "    time.sleep(3)\n",
    "    pageNumberBar = soup.find('div',{'class':'search_pagination_right'})\n",
    "    pageNumber = int(pageNumberBar.find_all('a',href=True)[2].text.strip()) #抓最後一頁的數字\n",
    "    while(flag != 1):\n",
    "        linkContainer = soup.find('div',{'id':'search_result_container'}) #抓所有連結的容器\n",
    "        linkContainer = linkContainer.find_all('div')\n",
    "        for reader in linkContainer[1].find_all('a',href=True):\n",
    "            link = reader.get('href')                                    #抓連結\n",
    "            links.append(link)\n",
    "        if(count < 2):                                       #設置要爬幾頁(一頁25個連結)\n",
    "            driver.close()\n",
    "            count+=1\n",
    "            nextPage = page[0:-1]+str(count)     #將一開始的連結page改成下一頁\n",
    "            driver = webdriver.Chrome('chromedriver')\n",
    "            driver.get(nextPage)\n",
    "            soup = bs(driver.page_source,\"html.parser\")\n",
    "            time.sleep(60)    \n",
    "        else:\n",
    "            flag=1\n",
    "            driver.close()\n",
    "    serchdf = pd.DataFrame({\"連結\":links})\n",
    "    serchdf.to_csv('serchPage.csv',encoding =\"utf_8_sig\")"
   ]
  },
  {
   "cell_type": "code",
   "execution_count": 3,
   "metadata": {},
   "outputs": [],
   "source": [
    "if __name__ == '__main__':\n",
    "    serchPage()"
   ]
  },
  {
   "cell_type": "code",
   "execution_count": null,
   "metadata": {},
   "outputs": [],
   "source": []
  }
 ],
 "metadata": {
  "kernelspec": {
   "display_name": "Python 3",
   "language": "python",
   "name": "python3"
  },
  "language_info": {
   "codemirror_mode": {
    "name": "ipython",
    "version": 3
   },
   "file_extension": ".py",
   "mimetype": "text/x-python",
   "name": "python",
   "nbconvert_exporter": "python",
   "pygments_lexer": "ipython3",
   "version": "3.6.5"
  }
 },
 "nbformat": 4,
 "nbformat_minor": 2
}
