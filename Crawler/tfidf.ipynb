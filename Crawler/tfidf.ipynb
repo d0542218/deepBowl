{
 "cells": [
  {
   "cell_type": "code",
   "execution_count": 1,
   "metadata": {},
   "outputs": [
    {
     "name": "stderr",
     "output_type": "stream",
     "text": [
      "Building prefix dict from D:\\Jupyter\\dict.txt.big ...\n",
      "Loading model from cache C:\\Users\\USER\\AppData\\Local\\Temp\\jieba.ufbaef0928a94102877211cd9567523b0.cache\n",
      "Loading model cost 1.209 seconds.\n",
      "Prefix dict has been built succesfully.\n"
     ]
    }
   ],
   "source": [
    "import json\n",
    "import jieba.analyse\n",
    "import codecs\n",
    "import re\n",
    "from sklearn import feature_extraction\n",
    "from sklearn.feature_extraction.text import TfidfVectorizer \n",
    "from sklearn.feature_extraction.text import CountVectorizer\n",
    "from sklearn.feature_extraction.text import TfidfTransformer\n",
    "import pandas as pd\n",
    "import numpy as np\n",
    "jieba.set_dictionary(\"dict.txt.big\")\n",
    "jieba.add_word('伺服器')"
   ]
  },
  {
   "cell_type": "code",
   "execution_count": 2,
   "metadata": {},
   "outputs": [],
   "source": [
    "def filter_words(s):\n",
    "    results_https=re.compile(r'https://[a-zA-Z0-9.?/-0-9_0-9?=0-9?&?:]*',re.S)\n",
    "    results_http=re.compile(r'http://[a-zA-Z0-9.?/-0-9_0-9?=0-9?&?:]*',re.S)\n",
    "    \n",
    "    s=results_https.sub(\"\",s)\n",
    "    s=results_http.sub(\"\",s)\n",
    "    return s"
   ]
  },
  {
   "cell_type": "code",
   "execution_count": 12,
   "metadata": {},
   "outputs": [],
   "source": [
    "f = codecs.open('PLAYERUNKNOWN\\'S BATTLEGROUNDS.txt', encoding='utf_8_sig')\n",
    "data = json.load(f)\n",
    "test = []\n",
    "values = []\n",
    "for i in range(0,len(data)):\n",
    "    data[str(i)] = re.sub(r\"\\u5f35\\u8cbc\\u65bc\\uff1a\\d{1,2} \\u6708 \\d{1,2} \\u65e5\",\"\",data[str(i)]) #正則張貼日期 並刪除\n",
    "    data[str(i)] = re.sub(r\"\\n?\\t?\",\"\",data[str(i)])#正則跳行 並刪除\n",
    "    data[str(i)] = filter_words(data[str(i)])\n",
    "    tags = jieba.cut(data[str(i)], cut_all=False)\n",
    "    a = \"|\".join(tags)\n",
    "    test.append(a)\n",
    "count = CountVectorizer(min_df=0)\n",
    "transformer = TfidfTransformer()\n",
    "tfidf = transformer.fit_transform(count.fit_transform(test))\n",
    "weight = tfidf.toarray()\n",
    "\n",
    "feature_names = count.get_feature_names()\n",
    "\n",
    "count = 0\n",
    "a = pd.DataFrame(weight, columns=feature_names)\n",
    "b = pd.DataFrame()\n",
    "b['num'] = a.apply(sum)\n",
    "b['name'] = feature_names\n",
    "b.to_csv('PLAYERUNKNOWN\\'S BATTLEGROUNDS.csv',encoding =\"utf_8_sig\",index=False)"
   ]
  },
  {
   "cell_type": "code",
   "execution_count": null,
   "metadata": {},
   "outputs": [],
   "source": []
  }
 ],
 "metadata": {
  "kernelspec": {
   "display_name": "Python 3",
   "language": "python",
   "name": "python3"
  },
  "language_info": {
   "codemirror_mode": {
    "name": "ipython",
    "version": 3
   },
   "file_extension": ".py",
   "mimetype": "text/x-python",
   "name": "python",
   "nbconvert_exporter": "python",
   "pygments_lexer": "ipython3",
   "version": "3.7.1"
  }
 },
 "nbformat": 4,
 "nbformat_minor": 2
}
