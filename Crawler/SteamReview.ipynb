{
 "cells": [
  {
   "cell_type": "code",
   "execution_count": 1,
   "metadata": {},
   "outputs": [],
   "source": [
    "from bs4 import BeautifulSoup as bs\n",
    "from selenium import webdriver\n",
    "import time\n",
    "import json\n",
    "import codecs"
   ]
  },
  {
   "cell_type": "code",
   "execution_count": 2,
   "metadata": {},
   "outputs": [],
   "source": [
    "def getID():\n",
    "    game_ids = json.load(codecs.open(\"ID.txt\", 'r', 'utf-8'))\n",
    "    return game_ids"
   ]
  },
  {
   "cell_type": "code",
   "execution_count": 37,
   "metadata": {},
   "outputs": [],
   "source": [
    "def getReview(game_id):\n",
    "    content = {}\n",
    "    reviewCount = 0\n",
    "    pageCount = 1\n",
    "    page = \"https://steamcommunity.com/app/\"+game_id+\"/negativereviews/?browsefilter=trendsixmonths&snr=1_5_100010_&p=1&filterLanguage=tchinese\"\n",
    "    options = webdriver.FirefoxOptions()\n",
    "    options.add_argument('lang=zh_TW.UTF-8')              #設定成繁體中文\n",
    "    driver = webdriver.Firefox(options=options)\n",
    "    driver.get(page)\n",
    "    if(\"error_box\" in driver.page_source): #若需要登入\n",
    "            loginPage = driver.find_element_by_class_name(\"global_action_link\")#點擊登入\n",
    "            loginPage.click()\n",
    "            accountBar = driver.find_element_by_id(\"input_username\")           #輸入帳號密碼    \n",
    "            accountBar.send_keys(account)\n",
    "            passwordBar = driver.find_element_by_id(\"input_password\")\n",
    "            passwordBar.send_keys(password)\n",
    "            passwordBar.send_keys(Keys.ENTER)\n",
    "            time.sleep(5)\n",
    "            goIn = driver.find_element_by_css_selector(\"[class='btnv6_blue_hoverfade btn_medium']\")#點擊檢視頁面(class名稱有空白)\n",
    "            goIn.click()\n",
    "        \n",
    "    if(\"agegate_wizard\"in driver.page_source): \n",
    "        if(\"ageYear\" in driver.page_source):\n",
    "            selectorYear = Select(driver.find_element_by_id(\"ageYear\"))\n",
    "            selectorYear.select_by_value(\"1995\")\n",
    "        goIn = driver.find_element_by_css_selector(\"[class='btnv6_blue_hoverfade btn_medium']\")#點擊檢視頁面(class名稱有空白)\n",
    "        goIn.click()\n",
    "        time.sleep(5)\n",
    "    time.sleep(5)\n",
    "    soup = bs(driver.page_source,\"html.parser\")\n",
    "    name = soup.find('div',{'class':\"apphub_AppName ellipsis\"}).text.strip()\n",
    "    while(reviewCount<500):\n",
    "        nowpage = soup.find('div',{'id':'page'+str(pageCount)})\n",
    "        for review in nowpage.find_all('div',{'class':'apphub_CardTextContent'}):\n",
    "            content[reviewCount] = review.text.strip()\n",
    "            reviewCount+=1\n",
    "        driver.execute_script(\"window.scrollBy(0,2500)\") #滾動\n",
    "        time.sleep(5)\n",
    "        soup = bs(driver.page_source,\"html.parser\")\n",
    "        pageCount+=1\n",
    "    driver.close()\n",
    "    jsons = json.dumps(content,ensure_ascii=False) \n",
    "    f = codecs.open(name+\".txt\", 'w', 'utf_8_sig')\n",
    "    f.write(jsons)\n",
    "    f.close"
   ]
  },
  {
   "cell_type": "code",
   "execution_count": 38,
   "metadata": {},
   "outputs": [],
   "source": [
    "if __name__ == '__main__':\n",
    "    game_ids = getID()\n",
    "    count = 0\n",
    "    for game_id in game_ids:\n",
    "        getReview(str(game_id))\n",
    "        count+=1\n",
    "        if(count>=1):\n",
    "            break;"
   ]
  },
  {
   "cell_type": "code",
   "execution_count": null,
   "metadata": {},
   "outputs": [],
   "source": []
  }
 ],
 "metadata": {
  "kernelspec": {
   "display_name": "Python 3",
   "language": "python",
   "name": "python3"
  },
  "language_info": {
   "codemirror_mode": {
    "name": "ipython",
    "version": 3
   },
   "file_extension": ".py",
   "mimetype": "text/x-python",
   "name": "python",
   "nbconvert_exporter": "python",
   "pygments_lexer": "ipython3",
   "version": "3.7.1"
  }
 },
 "nbformat": 4,
 "nbformat_minor": 2
}
