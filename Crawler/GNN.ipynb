{
 "cells": [
  {
   "cell_type": "code",
   "execution_count": 10,
   "metadata": {},
   "outputs": [],
   "source": [
    "from bs4 import BeautifulSoup as bs\n",
    "from selenium import webdriver\n",
    "import time\n",
    "import pandas as pd\n",
    "import codecs\n",
    "import json\n",
    "import datetime"
   ]
  },
  {
   "cell_type": "code",
   "execution_count": 11,
   "metadata": {},
   "outputs": [],
   "source": [
    "def serchPage():\n",
    "    \n",
    "    count = 0     #計算抓多少\n",
    "    titles = []   #標題\n",
    "    contents = [] #標題文章\n",
    "    links = []    #連結\n",
    "    jsons = []    #存資料的陣列\n",
    "    page = \"https://gnn.gamer.com.tw/\"\n",
    "    driver = webdriver.Chrome('chromedriver')\n",
    "    driver.get(page)\n",
    "    thisMonthButton = driver.find_element_by_class_name(\"GN-lbox2G\").find_element_by_tag_name(\"button\")#按下本月新聞按鈕\n",
    "    thisMonthButton.click()\n",
    "    time.sleep(5)\n",
    "    soup = bs(driver.page_source,\"html.parser\")\n",
    "    driver.close()\n",
    "    newsContainer = soup.find('div',{'class':'BH-lbox GN-lbox2'}) #抓連結\n",
    "    for element in newsContainer.find_all('div',{'class':'GN-lbox2B'}):\n",
    "        count+=1\n",
    "        reader = element.find('h1',{'class':'GN-lbox2D'}).find('a',href = True)\n",
    "        title = reader.text.strip()\n",
    "        link = \"https://\"+reader.get('href')\n",
    "        reader = element.find('p',{'class':'GN-lbox2C'})\n",
    "        content = reader.text.strip()[0:-5]\n",
    "        titles.append(title)\n",
    "        contents.append(content)\n",
    "        links.append(link)\n",
    "        if(count>2):\n",
    "            break;\n",
    "    for i in range(0,len(titles)):\n",
    "        temp = {\"標題\":titles[i],\"部分文章\":contents[i],\"連結\":links[i]}\n",
    "        jsons.append(temp)\n",
    "    return jsons"
   ]
  },
  {
   "cell_type": "code",
   "execution_count": 12,
   "metadata": {},
   "outputs": [],
   "source": [
    "def newsPage(GNNews):\n",
    "    count = 0\n",
    "    texts = []\n",
    "    dates = []\n",
    "    pages = []\n",
    "    for i in range(0,len(GNNews)):\n",
    "        pages.append(GNNews[i][\"連結\"])\n",
    "    for page in pages:\n",
    "        count+=1\n",
    "        print(count)\n",
    "        driver = webdriver.Chrome('chromedriver')\n",
    "        driver.get(page)\n",
    "        soup = bs(driver.page_source,\"html.parser\")\n",
    "        news = soup.find('div',{'id':'BH-master'})\n",
    "        if(\"BH-lbox GN-lbox3\" in driver.page_source):\n",
    "            text = news.find('div',{'class':'GN-lbox3B'}).text.strip()\n",
    "            date = news.find('span',{'class':'GN-lbox3C'})\n",
    "            if(date is None):\n",
    "                date = news.find('span',{'class':'GN-lbox3CA'}).text.strip()\n",
    "                i = date.find('）')+1\n",
    "                date = date[i:i+11]\n",
    "            else:\n",
    "                date = date.text.strip()\n",
    "                i = date.find('）')+1\n",
    "                date = date[i:i+11]\n",
    "\n",
    "        elif(\"BH-lbox MSG-list8\"in driver.page_source):\n",
    "            text = news.find('div',{'class':'MSG-list8C'}).text.strip()\n",
    "            date = news.find('span',{'class':'ST1'}).text.strip()\n",
    "            i = int(date.find('│')+1)\n",
    "            while(\"2018\" not in date[i:i+4]):\n",
    "                i = date.find('│',i)+1\n",
    "            date = date[i:i+10]\n",
    "        texts.append(text)\n",
    "        dates.append(date)\n",
    "        driver.close()\n",
    "        time.sleep(15)\n",
    "    for i in range(0,len(GNNews)):\n",
    "        GNNews[i][\"發表日期\"] =dates[i]\n",
    "        GNNews[i][\"文章內容\"] =texts[i]\n",
    "    return GNNews"
   ]
  },
  {
   "cell_type": "code",
   "execution_count": 13,
   "metadata": {},
   "outputs": [
    {
     "name": "stdout",
     "output_type": "stream",
     "text": [
      "1\n",
      "2\n",
      "3\n",
      "4\n",
      "5\n",
      "6\n",
      "7\n",
      "8\n",
      "9\n",
      "10\n",
      "11\n"
     ]
    }
   ],
   "source": [
    "if __name__ == '__main__':\n",
    "    GNNews = serchPage()\n",
    "    time.sleep(5)\n",
    "    GNNews = newsPage(GNNews)\n",
    "    jsons = json.dumps(GNNews,ensure_ascii=False)  \n",
    "    today = datetime.datetime.today().strftime(\"%Y-%m-%d\").__str__()\n",
    "    txtName = 'GNN'+today+'.txt'\n",
    "    fp = codecs.open(txtName, 'a+', 'utf-8')\n",
    "    fp.write(jsons)\n",
    "    fp.close()"
   ]
  },
  {
   "cell_type": "code",
   "execution_count": null,
   "metadata": {},
   "outputs": [],
   "source": [
    ""
   ]
  }
 ],
 "metadata": {
  "celltoolbar": "Raw Cell Format",
  "kernelspec": {
   "display_name": "Python 3",
   "language": "python",
   "name": "python3"
  },
  "language_info": {
   "codemirror_mode": {
    "name": "ipython",
    "version": 3.0
   },
   "file_extension": ".py",
   "mimetype": "text/x-python",
   "name": "python",
   "nbconvert_exporter": "python",
   "pygments_lexer": "ipython3",
   "version": "3.7.1"
  }
 },
 "nbformat": 4,
 "nbformat_minor": 0
}